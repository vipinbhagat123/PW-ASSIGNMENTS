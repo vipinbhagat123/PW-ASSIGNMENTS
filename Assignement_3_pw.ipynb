{
  "nbformat": 4,
  "nbformat_minor": 0,
  "metadata": {
    "colab": {
      "provenance": [],
      "authorship_tag": "ABX9TyPZHJzh/Qc8UP0NTunBhO/V",
      "include_colab_link": true
    },
    "kernelspec": {
      "name": "python3",
      "display_name": "Python 3"
    },
    "language_info": {
      "name": "python"
    }
  },
  "cells": [
    {
      "cell_type": "markdown",
      "metadata": {
        "id": "view-in-github",
        "colab_type": "text"
      },
      "source": [
        "<a href=\"https://colab.research.google.com/github/vipinbhagat123/PW-ASSIGNMENTS/blob/main/Assignement_3_pw.ipynb\" target=\"_parent\"><img src=\"https://colab.research.google.com/assets/colab-badge.svg\" alt=\"Open In Colab\"/></a>"
      ]
    },
    {
      "cell_type": "markdown",
      "source": [
        "# **Assignment 3**"
      ],
      "metadata": {
        "id": "qS2Z89Ib2HS-"
      }
    },
    {
      "cell_type": "markdown",
      "source": [
        "1). Expain with an example each when to use a for loop and a while loop."
      ],
      "metadata": {
        "id": "BN6gDe3_2KyL"
      }
    },
    {
      "cell_type": "markdown",
      "source": [
        "1. Use a for loop to iterate over an array.\n",
        "2. Use a for loop when you know the loop should execute n times.\n",
        "3. Use a while loop for reading a file into a variable.\n",
        "4. Use a while loop when asking for user input.\n",
        "5. Use a while loop when the increment value is nonstandard."
      ],
      "metadata": {
        "id": "1f_0jU6S2dzl"
      }
    },
    {
      "cell_type": "code",
      "source": [
        "# for loop example 1\n",
        "x=\"banana\"\n",
        "for i in x:\n",
        "  print(i)\n"
      ],
      "metadata": {
        "colab": {
          "base_uri": "https://localhost:8080/"
        },
        "id": "JUNhlTQt2xPi",
        "outputId": "b8ecaf50-d48f-47ef-95b4-e4378e475465"
      },
      "execution_count": null,
      "outputs": [
        {
          "output_type": "stream",
          "name": "stdout",
          "text": [
            "b\n",
            "a\n",
            "n\n",
            "a\n",
            "n\n",
            "a\n"
          ]
        }
      ]
    },
    {
      "cell_type": "code",
      "source": [
        "# for loop example 2\n",
        "x=5\n",
        "for i in range(x):\n",
        "  print(i)"
      ],
      "metadata": {
        "colab": {
          "base_uri": "https://localhost:8080/"
        },
        "id": "-YcHumRv261i",
        "outputId": "13952b87-f5c7-4171-eeb7-4dfaf967c9f5"
      },
      "execution_count": null,
      "outputs": [
        {
          "output_type": "stream",
          "name": "stdout",
          "text": [
            "0\n",
            "1\n",
            "2\n",
            "3\n",
            "4\n"
          ]
        }
      ]
    },
    {
      "cell_type": "code",
      "source": [
        "# while loop example 1\n",
        "x=int(input())\n",
        "i=1\n",
        "while(i<=x):\n",
        "  print(i)\n",
        "  i=i+1"
      ],
      "metadata": {
        "colab": {
          "base_uri": "https://localhost:8080/"
        },
        "id": "FOqFIEIL3oz9",
        "outputId": "aeed0a26-8279-4e8e-b740-7b99d4a2adc4"
      },
      "execution_count": null,
      "outputs": [
        {
          "output_type": "stream",
          "name": "stdout",
          "text": [
            "10\n",
            "1\n",
            "2\n",
            "3\n",
            "4\n",
            "5\n",
            "6\n",
            "7\n",
            "8\n",
            "9\n",
            "10\n"
          ]
        }
      ]
    },
    {
      "cell_type": "code",
      "source": [
        "# while loop example 2\n",
        "y=10\n",
        "i=1\n",
        "while(i<=10):\n",
        "  result=y*i\n",
        "  print(y,\"*\",i,\"=\", result)\n",
        "  i=i+1"
      ],
      "metadata": {
        "colab": {
          "base_uri": "https://localhost:8080/"
        },
        "id": "kQWFmSGO33Bt",
        "outputId": "4db0ca29-44ef-408c-8fba-c392ecc5656a"
      },
      "execution_count": null,
      "outputs": [
        {
          "output_type": "stream",
          "name": "stdout",
          "text": [
            "10 * 1 = 10\n",
            "10 * 2 = 20\n",
            "10 * 3 = 30\n",
            "10 * 4 = 40\n",
            "10 * 5 = 50\n",
            "10 * 6 = 60\n",
            "10 * 7 = 70\n",
            "10 * 8 = 80\n",
            "10 * 9 = 90\n",
            "10 * 10 = 100\n"
          ]
        }
      ]
    },
    {
      "cell_type": "markdown",
      "source": [
        "2). Write a python program to print the sum and product of the first 10 natural numbers using for and while loop\n"
      ],
      "metadata": {
        "id": "5l3XtgVs5C42"
      }
    },
    {
      "cell_type": "code",
      "source": [
        "# sum using for loop\n",
        "print(\"Using for loop\")\n",
        "sum=0\n",
        "for i in range(1, 11):\n",
        "  sum=sum+i\n",
        "print(sum)\n",
        "\n",
        "# Sum using while loop\n",
        "print(\"Using while loop\")\n",
        "sum=0\n",
        "i=1\n",
        "while(i<11):\n",
        "  sum=sum+i\n",
        "  i=i+1\n",
        "print(sum)"
      ],
      "metadata": {
        "colab": {
          "base_uri": "https://localhost:8080/"
        },
        "id": "hwkicXS9ijG5",
        "outputId": "51394446-f37c-4f31-c865-eb24642561c6"
      },
      "execution_count": null,
      "outputs": [
        {
          "output_type": "stream",
          "name": "stdout",
          "text": [
            "Using for loop\n",
            "55\n",
            "Using while loop\n",
            "55\n"
          ]
        }
      ]
    },
    {
      "cell_type": "code",
      "source": [
        "# product using for loop\n",
        "print('Using for loop')\n",
        "sum=1\n",
        "for i in range(1,11):\n",
        "  sum=sum*i\n",
        "print(sum)\n",
        "\n",
        "# product using while loop\n",
        "print(\"Using while loop\")\n",
        "i=1\n",
        "sum2=1\n",
        "while i< 11:\n",
        "  sum2=sum2*i\n",
        "  i=i+1\n",
        "print(sum2)"
      ],
      "metadata": {
        "id": "_FWry7cWYjFd",
        "colab": {
          "base_uri": "https://localhost:8080/"
        },
        "outputId": "24ba1bf6-69c5-4d1a-a54d-df35099ef39d"
      },
      "execution_count": null,
      "outputs": [
        {
          "output_type": "stream",
          "name": "stdout",
          "text": [
            "Using for loop\n",
            "3628800\n",
            "Using while loop\n",
            "3628800\n"
          ]
        }
      ]
    },
    {
      "cell_type": "markdown",
      "source": [
        "3). Create a python pprogram to compute the electricity bill for a household."
      ],
      "metadata": {
        "id": "RtwuGO3IjPoX"
      }
    },
    {
      "cell_type": "markdown",
      "source": [
        "The per-unit charges in rupees are as follows: for the first 100 units, the user will be charged Rs 4.5 per unit, for the next 100 units, the user will be charged Rs 6 per unit, and fo the next 100 units, the user will be charged Rs. 10 per unit, After 300 units above the user will be charged Rs. 20 per unit.\n"
      ],
      "metadata": {
        "id": "Khu4S0UdjXJi"
      }
    },
    {
      "cell_type": "markdown",
      "source": [
        "Your are required to take the units of electricity consumed in a month from the user as input.\n"
      ],
      "metadata": {
        "id": "I_AgBV3njy5M"
      }
    },
    {
      "cell_type": "markdown",
      "source": [
        "Your program myst pass this tesst case: when the unit of electricity consumed by the user in a month is 310, the total electricity bill should be 2250."
      ],
      "metadata": {
        "id": "9-GcFTe0kC8u"
      }
    },
    {
      "cell_type": "code",
      "source": [
        "consumed=int(input())\n",
        "if consumed<=100:\n",
        "  print(\"The\",consumed, \" is consumed per unit is 4.5:\",consumed * 4.5)\n",
        "elif consumed>=100 and consumed<=200:\n",
        "  print(\"The\",consumed, \" is consumed per unit is 6:\", (100*4.5)+(consumed-100)*6)\n",
        "elif consumed>=200 and consumed<=300:\n",
        "  print(\"The\",consumed, \" is consumed per unit is 10:\", (100*4.5)+(100*6)+(consumed-200)*10)\n",
        "elif consumed>=300:\n",
        "  print(\"The\",consumed, \" is consumed per unit is 20:\", (100*4.5)+(100*6)+(100*10)+(consumed-300)*20)\n",
        "else:\n",
        "  print(\"NOthing is consumed\")"
      ],
      "metadata": {
        "colab": {
          "base_uri": "https://localhost:8080/"
        },
        "id": "1XkHff6DkUWo",
        "outputId": "94de27ef-28f3-49c2-af42-180bac902fe5"
      },
      "execution_count": null,
      "outputs": [
        {
          "output_type": "stream",
          "name": "stdout",
          "text": [
            "440\n",
            "The 440  is consumed per unit is 20: 4850.0\n"
          ]
        }
      ]
    },
    {
      "cell_type": "markdown",
      "source": [
        "4). Create a list of numbers from 1 to 100. Use for loop and while loop to calculate the cube of each number and if the cube of that number is divisible by r or t then append that number in a list and print that list."
      ],
      "metadata": {
        "id": "Ug71zaXWdcqo"
      }
    },
    {
      "cell_type": "code",
      "source": [
        "l1=list(range(1, 11))\n",
        "l2=[]\n",
        "l3=[]\n",
        "l4=[]\n",
        "l5=[]\n",
        "print(\"using for loop\")\n",
        "for i in l1:\n",
        "  cube=i**3\n",
        "  l2.append(cube)\n",
        "print(l2)\n",
        "print(\"using for loop\")\n",
        "for i in l2:\n",
        "  if i%4==0 or i%5==0:\n",
        "    l3.append(i)\n",
        "print(l3)\n",
        "print(\"Using While Loop\")\n",
        "i = 1\n",
        "while i<len(l1)+1:\n",
        "    ans = i**3\n",
        "    l4.append(ans)\n",
        "    i+=1\n",
        "print(l4)\n",
        "for i in l4:\n",
        "    if i % 4 == 0 or i % 5 == 0:\n",
        "        l5.append(i)\n",
        "print(l5)\n"
      ],
      "metadata": {
        "colab": {
          "base_uri": "https://localhost:8080/"
        },
        "id": "LKMLVVxUgFAl",
        "outputId": "d64bd6fc-f2d0-44b2-d05e-0b36ccebbcd0"
      },
      "execution_count": 7,
      "outputs": [
        {
          "output_type": "stream",
          "name": "stdout",
          "text": [
            "using for loop\n",
            "[1, 8, 27, 64, 125, 216, 343, 512, 729, 1000]\n",
            "using for loop\n",
            "[8, 64, 125, 216, 512, 1000]\n",
            "Using While Loop\n",
            "[1, 8, 27, 64, 125, 216, 343, 512, 729, 1000]\n",
            "[8, 64, 125, 216, 512, 1000]\n"
          ]
        }
      ]
    },
    {
      "cell_type": "markdown",
      "source": [
        "5). Write a program to filter count vowels in the below-given string."
      ],
      "metadata": {
        "id": "ZEO4u_k1mGBX"
      }
    },
    {
      "cell_type": "code",
      "source": [
        "string=\"I wan't to become a data scientist\""
      ],
      "metadata": {
        "id": "7pmgIP4VmN0m"
      },
      "execution_count": 8,
      "outputs": []
    },
    {
      "cell_type": "code",
      "source": [
        "print(string.count('t'))\n",
        "print(string.count('e'))\n",
        "print(string.count('a'))\n",
        "print(string.count('data'))"
      ],
      "metadata": {
        "colab": {
          "base_uri": "https://localhost:8080/"
        },
        "id": "t04U7HfXmSW9",
        "outputId": "a94573e0-06f5-46a2-d631-d742df3a3e5c"
      },
      "execution_count": 10,
      "outputs": [
        {
          "output_type": "stream",
          "name": "stdout",
          "text": [
            "5\n",
            "3\n",
            "4\n",
            "1\n"
          ]
        }
      ]
    }
  ]
}