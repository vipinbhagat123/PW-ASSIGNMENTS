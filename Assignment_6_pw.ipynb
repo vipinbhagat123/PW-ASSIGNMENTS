{
  "nbformat": 4,
  "nbformat_minor": 0,
  "metadata": {
    "colab": {
      "provenance": [],
      "authorship_tag": "ABX9TyPZfBab3L96DW3yKOT2gLN6",
      "include_colab_link": true
    },
    "kernelspec": {
      "name": "python3",
      "display_name": "Python 3"
    },
    "language_info": {
      "name": "python"
    }
  },
  "cells": [
    {
      "cell_type": "markdown",
      "metadata": {
        "id": "view-in-github",
        "colab_type": "text"
      },
      "source": [
        "<a href=\"https://colab.research.google.com/github/vipinbhagat123/PW-ASSIGNMENTS/blob/main/Assignment_6_pw.ipynb\" target=\"_parent\"><img src=\"https://colab.research.google.com/assets/colab-badge.svg\" alt=\"Open In Colab\"/></a>"
      ]
    },
    {
      "cell_type": "markdown",
      "source": [
        "# **ASSIGNMENT 6**"
      ],
      "metadata": {
        "id": "X8ia6L8QztrK"
      }
    },
    {
      "cell_type": "markdown",
      "source": [
        "### **1. Explain Class and Object with respect to Object-Oriented Programming. Give a suitable example.**"
      ],
      "metadata": {
        "id": "4odS2hRizyl6"
      }
    },
    {
      "cell_type": "markdown",
      "source": [
        "**Ans:**"
      ],
      "metadata": {
        "id": "qCgVvT8tz-n0"
      }
    },
    {
      "cell_type": "markdown",
      "source": [
        "Classes: Classes are user-defined data types that act as the blueprint for individual objects, attributes and methods\n",
        "\n",
        "Objects: Objects are instances of a class created with specifically defined data. Objects can correspond to real-world objects or an abstract entity."
      ],
      "metadata": {
        "id": "5uK6m9OI0KHL"
      }
    },
    {
      "cell_type": "markdown",
      "source": [
        "**example:**"
      ],
      "metadata": {
        "id": "c1wvuTuD0lIv"
      }
    },
    {
      "cell_type": "code",
      "source": [
        "class test1:\n",
        "  def __init__(self, phone_number, email_id, student_id):\n",
        "    self.phone_number = phone_number\n",
        "    self.email_id = email_id\n",
        "    self.student_id = student_id\n",
        "  \n",
        "  def welcome(self):\n",
        "    return self.phone_number, self.email_id, self.student_id\n"
      ],
      "metadata": {
        "id": "R6v7xuZT0pX8"
      },
      "execution_count": 3,
      "outputs": []
    },
    {
      "cell_type": "code",
      "source": [
        "vipin=test1(546431564, \"bhagatvipin59@gmail.com\", 45645)"
      ],
      "metadata": {
        "id": "RU7X6XqX1CWO"
      },
      "execution_count": 4,
      "outputs": []
    },
    {
      "cell_type": "code",
      "source": [
        "vipin.phone_number"
      ],
      "metadata": {
        "colab": {
          "base_uri": "https://localhost:8080/"
        },
        "id": "SAFZIgDd1Slp",
        "outputId": "bb5cd88d-9d6c-443a-ccda-7f224c2c8f24"
      },
      "execution_count": 5,
      "outputs": [
        {
          "output_type": "execute_result",
          "data": {
            "text/plain": [
              "546431564"
            ]
          },
          "metadata": {},
          "execution_count": 5
        }
      ]
    },
    {
      "cell_type": "code",
      "source": [
        "vipin.email_id"
      ],
      "metadata": {
        "colab": {
          "base_uri": "https://localhost:8080/",
          "height": 36
        },
        "id": "8ZPK4Bgg1hRY",
        "outputId": "ec809a4f-3877-4476-906c-951574741b0f"
      },
      "execution_count": 6,
      "outputs": [
        {
          "output_type": "execute_result",
          "data": {
            "text/plain": [
              "'bhagatvipin59@gmail.com'"
            ],
            "application/vnd.google.colaboratory.intrinsic+json": {
              "type": "string"
            }
          },
          "metadata": {},
          "execution_count": 6
        }
      ]
    },
    {
      "cell_type": "code",
      "source": [
        "vipin.student_id"
      ],
      "metadata": {
        "colab": {
          "base_uri": "https://localhost:8080/"
        },
        "id": "wa2Kabas1jEd",
        "outputId": "da86c2ab-ae93-44e2-9710-9b657d3d5667"
      },
      "execution_count": 7,
      "outputs": [
        {
          "output_type": "execute_result",
          "data": {
            "text/plain": [
              "45645"
            ]
          },
          "metadata": {},
          "execution_count": 7
        }
      ]
    },
    {
      "cell_type": "markdown",
      "source": [
        "### **2. Nmae the four pillars of OOPs.**"
      ],
      "metadata": {
        "id": "E5-nrkU51odn"
      }
    },
    {
      "cell_type": "markdown",
      "source": [
        "**Ans:**"
      ],
      "metadata": {
        "id": "vuaEY3_710u6"
      }
    },
    {
      "cell_type": "markdown",
      "source": [
        "Inheritance, Polymorphism, Encapsulation and Abstraction are the four pillars of OOPs\n"
      ],
      "metadata": {
        "id": "NAvSecRb129P"
      }
    },
    {
      "cell_type": "markdown",
      "source": [
        "### **3. Explain why the __init__() function is used. Give a suitable example.**"
      ],
      "metadata": {
        "id": "YQ1HsDUt2KFo"
      }
    },
    {
      "cell_type": "markdown",
      "source": [
        "**Ans:**"
      ],
      "metadata": {
        "id": "ZKcn4l6g2UoL"
      }
    },
    {
      "cell_type": "markdown",
      "source": [
        "The default __init__ constructor in c++ and java. Constructors are initialize(assign values) to the data members of the class when an object of the class is created. Like methods, a constructor also contains a collection of statements(i.e. instructions) that are executed at the time of Object creation. It is run as soon as an object of a class is instantiated. The method is useful to do any initialization you want to do with your object."
      ],
      "metadata": {
        "id": "BV1fl7z54zLI"
      }
    },
    {
      "cell_type": "code",
      "source": [
        "class test1:\n",
        "  def __init__(self, phone_number, email_id, student_id):\n",
        "    self.phone_number = phone_number\n",
        "    self.email_id = email_id\n",
        "    self.student_id = student_id\n",
        "  \n",
        "  def welcome(self):\n",
        "    return self.phone_number, self.email_id, self.student_id"
      ],
      "metadata": {
        "id": "bVHs94A_5Yc6"
      },
      "execution_count": 8,
      "outputs": []
    },
    {
      "cell_type": "code",
      "source": [
        "vipin=test1(546431564, \"bhagatvipin59@gmail.com\", 45645)"
      ],
      "metadata": {
        "id": "FYFpXNzn5a_O"
      },
      "execution_count": 9,
      "outputs": []
    },
    {
      "cell_type": "code",
      "source": [
        "vipin.phone_number"
      ],
      "metadata": {
        "colab": {
          "base_uri": "https://localhost:8080/"
        },
        "id": "QVy3_qW75eN8",
        "outputId": "e023c20a-039e-4292-b0eb-ba7f0885cc3f"
      },
      "execution_count": 10,
      "outputs": [
        {
          "output_type": "execute_result",
          "data": {
            "text/plain": [
              "546431564"
            ]
          },
          "metadata": {},
          "execution_count": 10
        }
      ]
    },
    {
      "cell_type": "markdown",
      "source": [
        "### **4. Why self is used in OOPs?**"
      ],
      "metadata": {
        "id": "KRxdi7Bw5jay"
      }
    },
    {
      "cell_type": "markdown",
      "source": [
        "**Ans**"
      ],
      "metadata": {
        "id": "B343Nc2X5pdy"
      }
    },
    {
      "cell_type": "markdown",
      "source": [
        "The self variable is used to represent the instance of the class which is often used in object-oriented programming"
      ],
      "metadata": {
        "id": "4pFVRF1V5www"
      }
    },
    {
      "cell_type": "markdown",
      "source": [
        "### **5. What is inheritance? Give an example for each type of inheritance.**"
      ],
      "metadata": {
        "id": "1Kb06Fzm5yDO"
      }
    },
    {
      "cell_type": "markdown",
      "source": [
        "nheritance is a mechanism of acquiring the features and behaviors of a class by another class. The class whose members are inherited is called the base class, and the class that inherits those members is called the derived class. Inheritance implements the IS-A relationship."
      ],
      "metadata": {
        "id": "fuZjxKag58-0"
      }
    }
  ]
}