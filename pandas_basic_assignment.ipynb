{
  "nbformat": 4,
  "nbformat_minor": 0,
  "metadata": {
    "colab": {
      "provenance": [],
      "authorship_tag": "ABX9TyOHzgY1a42mOCQqG2qHUMcz",
      "include_colab_link": true
    },
    "kernelspec": {
      "name": "python3",
      "display_name": "Python 3"
    },
    "language_info": {
      "name": "python"
    }
  },
  "cells": [
    {
      "cell_type": "markdown",
      "metadata": {
        "id": "view-in-github",
        "colab_type": "text"
      },
      "source": [
        "<a href=\"https://colab.research.google.com/github/vipinbhagat123/PW-ASSIGNMENTS/blob/main/pandas_basic_assignment.ipynb\" target=\"_parent\"><img src=\"https://colab.research.google.com/assets/colab-badge.svg\" alt=\"Open In Colab\"/></a>"
      ]
    },
    {
      "cell_type": "code",
      "execution_count": 1,
      "metadata": {
        "id": "D3PHiN6CxaTu"
      },
      "outputs": [],
      "source": [
        "import pandas as pd"
      ]
    },
    {
      "cell_type": "markdown",
      "source": [
        "**Q1. Create a Pandas Series that contains the following data: 4,8,15,16,23,42. Then print the series.**\n",
        "```\n",
        "\n"
      ],
      "metadata": {
        "id": "lo4k1VJB2nb-"
      }
    },
    {
      "cell_type": "code",
      "source": [
        "df = pd.Series([4,8,15,16,23,42])\n",
        "df"
      ],
      "metadata": {
        "colab": {
          "base_uri": "https://localhost:8080/"
        },
        "id": "MZU10m4wyVl2",
        "outputId": "8f7b4f3e-1ce2-4207-a645-7774288a0cdf"
      },
      "execution_count": 6,
      "outputs": [
        {
          "output_type": "execute_result",
          "data": {
            "text/plain": [
              "0     4\n",
              "1     8\n",
              "2    15\n",
              "3    16\n",
              "4    23\n",
              "5    42\n",
              "dtype: int64"
            ]
          },
          "metadata": {},
          "execution_count": 6
        }
      ]
    },
    {
      "cell_type": "markdown",
      "source": [
        "**Q2. Create a variable of list type containing 10 elements in it , amnd apply pandas.series function on the variable print it.**"
      ],
      "metadata": {
        "id": "rmYjdMzI23Cc"
      }
    },
    {
      "cell_type": "code",
      "source": [
        "b=[\"apple\", \"banana\", \"chikoo\", \"dragongfruit\", \"Elaichi\", \"fruit\", \"grapes\", \"honey berries\", \"ice apple\", \"jammun\"]\n",
        "df1=pd.Series(b)\n",
        "df1\n"
      ],
      "metadata": {
        "colab": {
          "base_uri": "https://localhost:8080/"
        },
        "id": "2-pGhsN1ydPo",
        "outputId": "1b87d6fe-3145-45e5-82e0-9609adb2b2f3"
      },
      "execution_count": 8,
      "outputs": [
        {
          "output_type": "execute_result",
          "data": {
            "text/plain": [
              "0            apple\n",
              "1           banana\n",
              "2           chikoo\n",
              "3     dragongfruit\n",
              "4          Elaichi\n",
              "5            fruit\n",
              "6           grapes\n",
              "7    honey berries\n",
              "8        ice apple\n",
              "9           jammun\n",
              "dtype: object"
            ]
          },
          "metadata": {},
          "execution_count": 8
        }
      ]
    },
    {
      "cell_type": "markdown",
      "source": [
        "**Q3. Create a Pandas DataFrame that contains the following data:**"
      ],
      "metadata": {
        "id": "gz_gfKIO3GMH"
      }
    },
    {
      "cell_type": "code",
      "source": [
        "data ={'Name': ['Alice', 'Bob', 'Claire'],\n",
        "        'Age': [25, 30, 27], 'Gender':['Female', 'Male', 'Female']}\n",
        "e=pd.DataFrame(data)\n",
        "print(e)"
      ],
      "metadata": {
        "colab": {
          "base_uri": "https://localhost:8080/"
        },
        "id": "aQQjEf4zz6ik",
        "outputId": "0cd8a7bd-1066-4d8f-b90e-807a0bc59d56"
      },
      "execution_count": 19,
      "outputs": [
        {
          "output_type": "stream",
          "name": "stdout",
          "text": [
            "     Name  Age  Gender\n",
            "0   Alice   25  Female\n",
            "1     Bob   30    Male\n",
            "2  Claire   27  Female\n"
          ]
        }
      ]
    },
    {
      "cell_type": "markdown",
      "source": [
        "**Q4. What is 'DataFrame' is pandas and how is it different from pandas.Series? Explain with an example**\n",
        "\n",
        "Ans: A Pandas DataFrame is a 2 dimensional data structure, like a 2 dimensional array, or a table with rows and columns.\n",
        "\n",
        "A Pandas Series is a 1D array of data, but a single-column DataFrame is a 2D table with one column."
      ],
      "metadata": {
        "id": "VMl-K7OR3kT8"
      }
    },
    {
      "cell_type": "markdown",
      "source": [
        "**Q5. What are some common functions you can use to manipulate data in a pandas Dataframe? Can you give an example of when you might use one of these functions?**\n",
        "\n",
        "Ans: There are so many Functions such as read_csv(), Head and Tail function = df.head(),df.tail(),shape-size-info  function= df.shape, df.size, isna function= df.isna(), Describe function = df.describe(), Nununique function =df.Nununique(), value_counts function = df.value_counts(), columns function = df.columns,"
      ],
      "metadata": {
        "id": "I9PQuqeB4k_i"
      }
    },
    {
      "cell_type": "markdown",
      "source": [
        "**Q6. Which of the following is mutable in nature Series, Dataframe, Panel?**\n",
        "\n",
        "Ans = Series: Series objects in Pandas are mutable, meaning you can change the values of elements within a Series after it has been created. You can assign new values to specific elements using indexing.\n",
        "\n",
        "DataFrame: DataFrames are also mutable. You can modify the data within a DataFrame, such as changing values in cells, adding or removing rows or columns, and more.\n",
        "\n",
        "Panel: Panels were used in earlier versions of Pandas to handle 3D data, but they have been removed in recent versions (Pandas 0.25.0 onwards) because they were rarely used and less versatile than DataFrames. Therefore, Panels are not relevant in more recent versions of Pandas, and you should use DataFrames and Series for data manipulation.\n",
        "\n",
        "Keep in mind that software libraries like Pandas can evolve over time, so it's essential to check the documentation and the specific version you are using for the most up-to-date information regarding mutability and other features.\n",
        "\n"
      ],
      "metadata": {
        "id": "Kn1xteM9wV8z"
      }
    },
    {
      "cell_type": "markdown",
      "source": [
        "**Q7. Create a DataFrame using multiple Series. Explain with an example.**\n",
        "\n",
        "Ans =\n",
        "To create a DataFrame using multiple Series in Python with Pandas, you can use the pd.DataFrame() constructor, where you pass a dictionary of Series objects. Each Series will become a column in the DataFrame. Here's an example:\n",
        "\n",
        "import pandas as pd\n",
        "\n",
        "# Create multiple Series\n",
        "series1 = pd.Series([1, 2, 3, 4], name='Column1')\n",
        "series2 = pd.Series(['A', 'B', 'C', 'D'], name='Column2')\n",
        "series3 = pd.Series([10.1, 20.2, 30.3, 40.4], name='Column3')\n",
        "\n",
        "# Create a DataFrame by combining the Series\n",
        "data = {'Column1': series1, 'Column2': series2, 'Column3': series3}\n",
        "df = pd.DataFrame(data)\n",
        "\n",
        "# Display the DataFrame\n",
        "print(df)\n",
        "\n",
        "\n",
        "\n",
        "In this example:\n",
        "\n",
        "We import the Pandas library as pd.\n",
        "\n",
        "We create three Series objects: series1, series2, and series3. Each Series represents a column of data.\n",
        "\n",
        "We create a dictionary called data, where the keys are the column names, and the values are the Series objects.\n",
        "\n",
        "We use the pd.DataFrame() constructor to create a DataFrame df by passing the data dictionary. This results in a DataFrame where each Series becomes a column, and the keys of the dictionary become the column names.\n",
        "\n",
        "Finally, we print the DataFrame, and you will see the following output:\n",
        "\n",
        "   Column1 Column2  Column3\n",
        "0        1       A     10.1\n",
        "1        2       B     20.2\n",
        "2        3       C     30.3\n",
        "3        4       D     40.4\n",
        "\n",
        "\n",
        "So, you've successfully created a DataFrame using multiple Series, with each Series representing a different column of data."
      ],
      "metadata": {
        "id": "rUwLjFWtyMoX"
      }
    }
  ]
}