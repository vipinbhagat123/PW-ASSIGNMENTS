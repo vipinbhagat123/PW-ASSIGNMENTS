{
  "nbformat": 4,
  "nbformat_minor": 0,
  "metadata": {
    "colab": {
      "provenance": [],
      "authorship_tag": "ABX9TyOGt+EvQAiAolRK8HzdlFUa",
      "include_colab_link": true
    },
    "kernelspec": {
      "name": "python3",
      "display_name": "Python 3"
    },
    "language_info": {
      "name": "python"
    }
  },
  "cells": [
    {
      "cell_type": "markdown",
      "metadata": {
        "id": "view-in-github",
        "colab_type": "text"
      },
      "source": [
        "<a href=\"https://colab.research.google.com/github/vipinbhagat123/PW-ASSIGNMENTS/blob/main/Assignment_N0_05.ipynb\" target=\"_parent\"><img src=\"https://colab.research.google.com/assets/colab-badge.svg\" alt=\"Open In Colab\"/></a>"
      ]
    },
    {
      "cell_type": "markdown",
      "source": [
        "# **ASSIGNMENT NO 05**"
      ],
      "metadata": {
        "id": "4aGjMbkc4dYO"
      }
    },
    {
      "cell_type": "markdown",
      "source": [
        "### 1. Create a python program to sort the given list of tuples based on integer value using a lambda function"
      ],
      "metadata": {
        "id": "X5WdNbaL4O60"
      }
    },
    {
      "cell_type": "code",
      "source": [
        "s=[('sachin Tendulkar', 3458), ('Ricky ponting', 27483), ('jack kalias', 25534), ('virat kohli', 25345)]\n",
        "s.sort(key=lambda x: x[1])\n",
        "s"
      ],
      "metadata": {
        "colab": {
          "base_uri": "https://localhost:8080/"
        },
        "id": "fgVVMiZY4b3B",
        "outputId": "ecd6ba57-e2e8-45ec-d56a-99cd3c16c56f"
      },
      "execution_count": 1,
      "outputs": [
        {
          "output_type": "execute_result",
          "data": {
            "text/plain": [
              "[('sachin Tendulkar', 3458),\n",
              " ('virat kohli', 25345),\n",
              " ('jack kalias', 25534),\n",
              " ('Ricky ponting', 27483)]"
            ]
          },
          "metadata": {},
          "execution_count": 1
        }
      ]
    },
    {
      "cell_type": "markdown",
      "source": [
        "**2. Write a Python program to find the squares of all the numbers in the given list of integers using lambda and map functions.**"
      ],
      "metadata": {
        "id": "YyCgtTMyvYzA"
      }
    },
    {
      "cell_type": "code",
      "source": [
        "l=[1,2,3,4,5,6,7,8,9,10]\n",
        "s=list(map(lambda x: x**2, l))\n",
        "s"
      ],
      "metadata": {
        "colab": {
          "base_uri": "https://localhost:8080/"
        },
        "id": "_2wWFcGkvosK",
        "outputId": "709d67c4-0777-438e-9b46-d261425354da"
      },
      "execution_count": 24,
      "outputs": [
        {
          "output_type": "execute_result",
          "data": {
            "text/plain": [
              "[1, 4, 9, 16, 25, 36, 49, 64, 81, 100]"
            ]
          },
          "metadata": {},
          "execution_count": 24
        }
      ]
    },
    {
      "cell_type": "markdown",
      "source": [
        "**3. Write a python program to convert the given list of integers into a tuple of strings. Use map and lambda functions.**"
      ],
      "metadata": {
        "id": "uoq0NGwz0g7J"
      }
    },
    {
      "cell_type": "code",
      "source": [
        "l=[1,2,3,4,5,6,7,8,9,10]\n",
        "s=tuple(map(lambda x: str(x), l ))\n",
        "s"
      ],
      "metadata": {
        "colab": {
          "base_uri": "https://localhost:8080/"
        },
        "id": "Alx6bnJGzXNg",
        "outputId": "605f1dec-ac56-4793-d5d3-c33d058aa1f0"
      },
      "execution_count": 33,
      "outputs": [
        {
          "output_type": "execute_result",
          "data": {
            "text/plain": [
              "('1', '2', '3', '4', '5', '6', '7', '8', '9', '10')"
            ]
          },
          "metadata": {},
          "execution_count": 33
        }
      ]
    },
    {
      "cell_type": "markdown",
      "source": [
        "**4. Write a python program using reduce function to compute the product of a list containing numbers from 1 to 25**"
      ],
      "metadata": {
        "id": "MjQA4c7N1-95"
      }
    },
    {
      "cell_type": "code",
      "source": [
        "from functools import reduce\n",
        "x=list(range(1,25))\n",
        "y=reduce(lambda a, b: a*b, x)\n",
        "y"
      ],
      "metadata": {
        "colab": {
          "base_uri": "https://localhost:8080/"
        },
        "id": "meU8WVQJ1MXK",
        "outputId": "2f6e50b9-5723-4b69-b3de-299fd9275c1d"
      },
      "execution_count": 44,
      "outputs": [
        {
          "output_type": "execute_result",
          "data": {
            "text/plain": [
              "620448401733239439360000"
            ]
          },
          "metadata": {},
          "execution_count": 44
        }
      ]
    },
    {
      "cell_type": "markdown",
      "source": [
        "**5. Write a python program to filter the numbers in a given list that are divisible by 2 and 3 using the filter function.**"
      ],
      "metadata": {
        "id": "YHXgXX7Ti8vI"
      }
    },
    {
      "cell_type": "code",
      "source": [
        "j=[2,3,6,9,27,60,90,120,55, 46]\n",
        "a=list(filter(lambda z: z%2==0 or z%3==0, j))\n",
        "a"
      ],
      "metadata": {
        "colab": {
          "base_uri": "https://localhost:8080/"
        },
        "id": "6jIoUm0e1m4a",
        "outputId": "3f59c36a-4975-4bc7-9dc1-56d67084d53e"
      },
      "execution_count": 1,
      "outputs": [
        {
          "output_type": "execute_result",
          "data": {
            "text/plain": [
              "[2, 3, 6, 9, 27, 60, 90, 120, 46]"
            ]
          },
          "metadata": {},
          "execution_count": 1
        }
      ]
    },
    {
      "cell_type": "markdown",
      "source": [
        "**6. Write a python program to find palindromes in the given list of strings using lambda and filter function.**"
      ],
      "metadata": {
        "id": "HLxjtw8Lj5Rs"
      }
    },
    {
      "cell_type": "code",
      "source": [
        "l=[\"python\", \"php\", \"aba\", \"radar\", \"level\"]\n",
        "result=list(filter(lambda x: x==x[::-1], l))\n",
        "result"
      ],
      "metadata": {
        "colab": {
          "base_uri": "https://localhost:8080/"
        },
        "id": "zG5C5BDl22gf",
        "outputId": "c3388978-63f8-499c-c7f2-cd0d4cfbfc47"
      },
      "execution_count": 4,
      "outputs": [
        {
          "output_type": "execute_result",
          "data": {
            "text/plain": [
              "['php', 'aba', 'radar', 'level']"
            ]
          },
          "metadata": {},
          "execution_count": 4
        }
      ]
    }
  ]
}