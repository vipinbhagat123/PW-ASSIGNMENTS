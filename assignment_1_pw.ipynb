{
  "nbformat": 4,
  "nbformat_minor": 0,
  "metadata": {
    "colab": {
      "provenance": [],
      "authorship_tag": "ABX9TyOtHTPI2zhpo/b2nH2Kz9cN",
      "include_colab_link": true
    },
    "kernelspec": {
      "name": "python3",
      "display_name": "Python 3"
    },
    "language_info": {
      "name": "python"
    }
  },
  "cells": [
    {
      "cell_type": "markdown",
      "metadata": {
        "id": "view-in-github",
        "colab_type": "text"
      },
      "source": [
        "<a href=\"https://colab.research.google.com/github/vipinbhagat123/PW-ASSIGNMENTS/blob/main/assignment_1_pw.ipynb\" target=\"_parent\"><img src=\"https://colab.research.google.com/assets/colab-badge.svg\" alt=\"Open In Colab\"/></a>"
      ]
    },
    {
      "cell_type": "markdown",
      "source": [
        "**ASSIGNMENT** NO 1"
      ],
      "metadata": {
        "id": "blG0bKKb9wdH"
      }
    },
    {
      "cell_type": "markdown",
      "source": [
        "1). Who developed python programming language\n",
        "\n",
        "ans: Python is developed by Guido Van Rossum in 1991"
      ],
      "metadata": {
        "id": "w10-5rb--I9I"
      }
    },
    {
      "cell_type": "markdown",
      "source": [
        "2). Which type of programming does python support?"
      ],
      "metadata": {
        "id": "_JBX1yem-jp3"
      }
    },
    {
      "cell_type": "markdown",
      "source": [
        "Ans:Python is a multi-paradigm programming language. Object-oriented programming and structured programming are fully supported, and many of their features support functional programming and aspect-oriented programming (including metaprogramming and metaobjects)."
      ],
      "metadata": {
        "id": "5qPoepXp_jNQ"
      }
    },
    {
      "cell_type": "markdown",
      "source": [
        "3). Is python case sensitive when dealing with identifiers?"
      ],
      "metadata": {
        "id": "-2Sq-RcO_SDq"
      }
    },
    {
      "cell_type": "markdown",
      "source": [
        "Ans: Yes, python is a case-sensitive language. It treats uppercase and lowerscase characters differently"
      ],
      "metadata": {
        "id": "6vTkvT_n_1GW"
      }
    },
    {
      "cell_type": "markdown",
      "source": [
        "4). What is the correct extension of the python file?"
      ],
      "metadata": {
        "id": "f1b1xQHiAKt5"
      }
    },
    {
      "cell_type": "markdown",
      "source": [
        "Ans: The correct extension for the python file is py,.pyi"
      ],
      "metadata": {
        "id": "u9H0Kf58ASJw"
      }
    },
    {
      "cell_type": "markdown",
      "source": [
        "5). Is python code compiled for interpreted?"
      ],
      "metadata": {
        "id": "FMO3GMP3AfuJ"
      }
    },
    {
      "cell_type": "markdown",
      "source": [
        "Ans: Python code interpreted."
      ],
      "metadata": {
        "id": "ILyWeCVTAm2A"
      }
    },
    {
      "cell_type": "code",
      "source": [],
      "metadata": {
        "id": "EaSCnp-JLLAw"
      },
      "execution_count": null,
      "outputs": []
    },
    {
      "cell_type": "markdown",
      "source": [
        "6). Name a few blocks of code used to define in python language?."
      ],
      "metadata": {
        "id": "Da-v0XxBAvqT"
      }
    },
    {
      "cell_type": "markdown",
      "source": [
        "Ans:Indentation is used to define a block of code in python. Braces {} are used to define a block of code in most programming languages, like C, C++, and Java. But this indentation makes python unique among all programming languages."
      ],
      "metadata": {
        "id": "nO4-yenNA9CB"
      }
    },
    {
      "cell_type": "markdown",
      "source": [
        "7). State a character used to give single-line Comments in python?\n"
      ],
      "metadata": {
        "id": "-31d3AJuA-xH"
      }
    },
    {
      "cell_type": "markdown",
      "source": [
        "Python offers a pretty simple and straightforward way to write a comment.\n",
        "The character used is #(hashtag)"
      ],
      "metadata": {
        "id": "RMKR6NWLBM4_"
      }
    },
    {
      "cell_type": "markdown",
      "source": [
        "8). Mention functions which can help us to find the version of python that we are currently working on?\n",
        "\n",
        "\n"
      ],
      "metadata": {
        "id": "06xmv18xBT0Z"
      }
    },
    {
      "cell_type": "markdown",
      "source": [
        "Ans: The function sys. version can help us to find the version of python that we are currently working on."
      ],
      "metadata": {
        "id": "RtOpAns0BbUG"
      }
    },
    {
      "cell_type": "markdown",
      "source": [
        "9). Python supports the creation of anonymous functions at runtime, using a construct called_____"
      ],
      "metadata": {
        "id": "3XkzA4AYBnk0"
      }
    },
    {
      "cell_type": "markdown",
      "source": [
        "Ans:Lambda"
      ],
      "metadata": {
        "id": "lT98GLBXB4F5"
      }
    },
    {
      "cell_type": "markdown",
      "source": [
        "10). What does pip stand for python?"
      ],
      "metadata": {
        "id": "_lBA7MlvB4U1"
      }
    },
    {
      "cell_type": "code",
      "source": [
        "Ans: It stand for preferred Installer Program"
      ],
      "metadata": {
        "id": "QnmWO8dQCFvz"
      },
      "execution_count": null,
      "outputs": []
    },
    {
      "cell_type": "markdown",
      "source": [
        "11). Mention a few built-in functions in python?"
      ],
      "metadata": {
        "id": "1yTWiow6CR1d"
      }
    },
    {
      "cell_type": "code",
      "source": [
        "Ans:input( ) function\n",
        "abs( ) function\n",
        "pow( ) function\n",
        "dir( ) function\n",
        "sorted( ) function\n",
        "max( ) function\n",
        "round( ) function\n",
        "print( ) function\n",
        "type( ) function and etc."
      ],
      "metadata": {
        "id": "yOAIXGFkCY9A"
      },
      "execution_count": null,
      "outputs": []
    },
    {
      "cell_type": "markdown",
      "source": [
        "12). What is the maximum possible length of an identifier in python?"
      ],
      "metadata": {
        "id": "C3DnIN6xCm6W"
      }
    },
    {
      "cell_type": "markdown",
      "source": [
        "Ans:79"
      ],
      "metadata": {
        "id": "mR-YnVrMCsel"
      }
    },
    {
      "cell_type": "markdown",
      "source": [
        "13). What are the benifits of using python?"
      ],
      "metadata": {
        "id": "Puab692JCzEC"
      }
    },
    {
      "cell_type": "markdown",
      "source": [
        "Ans:Data science,\n",
        "Scientific and mathematical computing,\n",
        "Web development,\n",
        "Finance and trading,\n",
        "System automation and administration,\n",
        "Computer graphics,\n",
        "Basic game development,\n",
        "Security and penetration testing,"
      ],
      "metadata": {
        "id": "0PFi4eRfC4AU"
      }
    },
    {
      "cell_type": "markdown",
      "source": [
        "14). How is memory managed in python?\n"
      ],
      "metadata": {
        "id": "D0E1S8_WDBxN"
      }
    },
    {
      "cell_type": "markdown",
      "source": [
        "Ans:Memory management in Python involves a private heap containing all Python objects and data structures. The management of this private heap is ensured internally by the Python memory manager."
      ],
      "metadata": {
        "id": "jZbbzeYODTXt"
      }
    },
    {
      "cell_type": "markdown",
      "source": [
        "15). How to install python on windows and set path variables?"
      ],
      "metadata": {
        "id": "ULcpVkHxDfNM"
      }
    },
    {
      "cell_type": "markdown",
      "source": [
        "Ans:\n",
        "    1).Right-clicking This PC and going to Properties.\n",
        "\n",
        "    2).Clicking on the Advanced system settings in the menu on the left.\n",
        "\n",
        "    3).Clicking on the Environment Variables button o​n the bottom right.\n",
        "\n",
        "    4).In the System variables section, selecting the Path variable and clicking on Edit. The next screen will show all the directories that are currently a part of the PATH variable.\n",
        "\n",
        "    5).Clicking on New and entering Python’s install directory."
      ],
      "metadata": {
        "id": "FUCBG-aHDkUD"
      }
    },
    {
      "cell_type": "markdown",
      "source": [
        "16). Is indentation required in python?"
      ],
      "metadata": {
        "id": "6GX_eu0WD6tB"
      }
    },
    {
      "cell_type": "markdown",
      "source": [
        "Ans:Indentation refers to the spaces at the beginning of a code line. Where in other programming languages the indentation in code is for readability only, the indentation in Python is very important. Python uses indentation to indicate a block of code."
      ],
      "metadata": {
        "id": "bUkfgphSEJQd"
      }
    }
  ]
}