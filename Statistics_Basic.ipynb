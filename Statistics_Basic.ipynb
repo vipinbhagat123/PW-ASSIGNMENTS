{
  "nbformat": 4,
  "nbformat_minor": 0,
  "metadata": {
    "colab": {
      "provenance": [],
      "authorship_tag": "ABX9TyN9Y980s7Vn44Pk1gPx0Eoy",
      "include_colab_link": true
    },
    "kernelspec": {
      "name": "python3",
      "display_name": "Python 3"
    },
    "language_info": {
      "name": "python"
    }
  },
  "cells": [
    {
      "cell_type": "markdown",
      "metadata": {
        "id": "view-in-github",
        "colab_type": "text"
      },
      "source": [
        "<a href=\"https://colab.research.google.com/github/vipinbhagat123/PW-ASSIGNMENTS/blob/main/Statistics_Basic.ipynb\" target=\"_parent\"><img src=\"https://colab.research.google.com/assets/colab-badge.svg\" alt=\"Open In Colab\"/></a>"
      ]
    },
    {
      "cell_type": "markdown",
      "source": [
        "**1). What is statistics?**\n",
        "\n",
        "= Statistics is the collection of data,\n",
        "organisation, interpretation, analysis and data presentation. The main purpose of using statistics is to plan the collected data in terms of experimental designs and statistical surveys."
      ],
      "metadata": {
        "id": "89eCw76xBpvc"
      }
    },
    {
      "cell_type": "markdown",
      "source": [
        "**2). Define the different types of statistics and give an example of when each type might be used.**\n",
        "\n",
        "= There are two types of statistics:\n",
        "1)Descriptive Statistics\n",
        "2)Inferential Statistics\n",
        "\n",
        "Descriptive Statistics – Through graphs or tables, or numerical calculations, descriptive statistics uses the data to provide descriptions of the population.\n",
        "\n",
        "Inferential Statistics – Based on the data sample taken from the population, inferential statistics makes the predictions and inferences."
      ],
      "metadata": {
        "id": "hqbyGwwxB0KM"
      }
    },
    {
      "cell_type": "markdown",
      "source": [
        "**Q3. What are the different types of data and how do they differ from each other? Provide an example of\n",
        "each type of data.**\n",
        "\n",
        "= There are four types of data in statistics:\n",
        "\n",
        "\n",
        "1) Nominal Data\n",
        "2) Ordinal Data\n",
        "3) Discrete Data\n",
        "4) Continuous Data\n",
        "\n",
        "-The nominal scale simply categorizes variables according to qualitative labels (or names). These labels and groupings don’t have any order or hierarchy to them, nor do they convey any numerical value. For example, the variable “hair color” could be measured on a nominal scale according to the following categories: blonde hair, brown hair, gray hair, and so on. Learn more in this complete guide to nominal data.\n",
        "\n",
        "\n",
        "-The ordinal scale also categorizes variables into labeled groups, and these categories have an order or hierarchy to them. For example, you could measure the variable “income” on an ordinal scale as follows: low income, medium income, high income. Another example could be level of education, classified as follows: high school, master’s degree, doctorate. These are still qualitative labels (as with the nominal scale), but you can see that they follow a hierarchical order. Learn more in this guide to ordinal data.\n",
        "\n",
        "\n",
        "-Discrete data can take only discrete values. Discrete information contains only a finite number of possible values. Those values cannot be subdivided meaningfully. Here, things can be counted in whole numbers.\n",
        "\n",
        "**Example: Number of students in the class**\n",
        "\n",
        "-Continuous data is data that can be calculated. It has an infinite number of probable values that can be selected within a given specific range.\n",
        "\n",
        "**Example: Temperature range**\n",
        "\n"
      ],
      "metadata": {
        "id": "X_S9dFmMDiCw"
      }
    },
    {
      "cell_type": "markdown",
      "source": [
        "Q4. Categorise the following datasets with respect to quantitative and qualitative data types:\n",
        "\n",
        "\n",
        "(i) Grading in exam: A+, A, B+, B, C+, C, D, E\n",
        "\n",
        "\n",
        "(ii) Colour of mangoes: yellow, green, orange, red\n",
        "\n",
        "\n",
        "(iii) Height data of a class: [178.9, 179, 179.5, 176, 177.2, 178.3, 175.8,...]\n",
        "\n",
        "\n",
        "(iv) Number of mangoes exported by a farm: [500, 600, 478, 672, ...]\n",
        "\n",
        "=\n",
        "\n",
        "\n",
        "1.   Qualitative Data\n",
        "2.   Qualitative Data\n",
        "3.   Quantitative Data\n",
        "4.   Quantitative Data\n",
        "\n"
      ],
      "metadata": {
        "id": "PYZHaXb8Eg8C"
      }
    },
    {
      "cell_type": "markdown",
      "source": [
        "**5). Explain the concept of levels of measurement and give an example of a variable for each level.**\n",
        "\n",
        "= There are 4 types of levels of measurement\n",
        "\n",
        "\n",
        "\n",
        "1.   Nominal Data\n",
        "2.   Ordinal Data\n",
        "3.   Interval Data\n",
        "4.   Ratio Data\n",
        "\n",
        "-The nominal scale simply categorizes variables according to qualitative labels (or names). These labels and groupings don’t have any order or hierarchy to them, nor do they convey any numerical value. For example, the variable “hair color” could be measured on a nominal scale according to the following categories: blonde hair, brown hair, gray hair, and so on. Learn more in this complete guide to nominal data.\n",
        "\n",
        "\n",
        "-The ordinal scale also categorizes variables into labeled groups, and these categories have an order or hierarchy to them. For example, you could measure the variable “income” on an ordinal scale as follows: low income, medium income, high income. Another example could be level of education, classified as follows: high school, master’s degree, doctorate. These are still qualitative labels (as with the nominal scale), but you can see that they follow a hierarchical order. Learn more in this guide to ordinal data.\n",
        "\n",
        "\n",
        "-The interval scale is a numerical scale which labels and orders variables, with a known, evenly spaced interval between each of the values. An oft-cited example of interval data is temperature in Fahrenheit, where the difference between 10 and 20 degrees Fahrenheit is exactly the same as the difference between, say, 50 and 60 degrees Fahrenheit. Learn more about interval data in this guide.\n",
        "\n",
        "\n",
        "-The ratio scale is exactly the same as the interval scale, with one key difference: The ratio scale has what’s known as a “true zero.” A good example of ratio data is weight in kilograms. If something weighs zero kilograms, it truly weighs nothing—compared to temperature (interval data), where a value of zero degrees doesn’t mean there is “no temperature,” it simply means it’s extremely cold! You’ll find a full guide to ratio data here.\n",
        "\n"
      ],
      "metadata": {
        "id": "Je169LGXFSMh"
      }
    },
    {
      "cell_type": "markdown",
      "source": [
        "**Q6. Why is it important to understand the level of measurement when analyzing data? Provide an\n",
        "example to illustrate your answer.**.\n",
        "\n",
        "Understanding the level of measurement when analyzing data is important because it helps determine the appropriate statistical techniques and operations that can be applied to the data. Different levels of measurement have different properties and implications for data analysis, and using the wrong techniques can lead to inaccurate or misleading results.\n",
        "\n",
        "For example, let's consider a scenario where we have data on the favorite colors of individuals. The data includes the following responses: \"blue,\" \"red,\" \"green,\" and \"yellow.\"\n",
        "\n",
        "If we treat this data as quantitative (numerical) and perform calculations such as calculating the mean or performing regression analysis, it would be inappropriate. Treating colors as numerical values would imply a meaningful order or magnitude, which is not applicable in this case. Colors are qualitative or categorical data.\n",
        "\n",
        "On the other hand, if we correctly understand the level of measurement and treat the color data as qualitative, we can use appropriate techniques such as frequency analysis or cross-tabulation to understand the distribution and patterns of color preferences among individuals. This analysis would provide meaningful insights into the preferences but would not attempt to impose any numerical significance on the colors themselves.\n",
        "\n",
        "By understanding the level of measurement, we ensure that the appropriate statistical methods are applied to the data, leading to more accurate interpretations and conclusions. It helps us avoid erroneous assumptions and inappropriate analysis techniques, ensuring that our findings are reliable and meaningful.\n",
        "\n",
        "\n",
        "\n",
        "\n",
        "\n",
        "\n"
      ],
      "metadata": {
        "id": "kndZrTUXMa-G"
      }
    },
    {
      "cell_type": "markdown",
      "source": [
        "**Q7. How nominal data type is different from ordinal data type.**\n",
        "\n",
        "Nominal and ordinal data types are both types of categorical data, but they differ in the level of measurement and the information they convey.\n",
        "\n",
        "**Nominal Data:**\n",
        "Nominal data represents categories or labels that have no inherent order or ranking. Each category is distinct and unrelated to others. Nominal data only provides information about the presence or absence of a particular attribute. Examples of nominal data include gender (male, female), eye color (blue, brown, green), or car brands (Toyota, Ford, Honda). In nominal data, categories are mutually exclusive and collectively exhaustive, but there is no implied order or hierarchy among them.\n",
        "\n",
        "**Ordinal Data:**\n",
        "Ordinal data, on the other hand, represents categories that have a specific order or ranking. The categories in ordinal data have a relative position or hierarchy, indicating more or less of a particular attribute. While the differences between categories are not precisely quantifiable, they do convey some level of information about the magnitude of the attribute being measured. Examples of ordinal data include Likert scale responses (strongly agree, agree, neutral, disagree, strongly disagree), educational attainment levels (elementary, high school, bachelor's, master's, doctorate), or satisfaction ratings (very satisfied, satisfied, neutral, dissatisfied, very dissatisfied).\n",
        "\n",
        "The key difference between nominal and ordinal data is the presence of a meaningful order or ranking in the latter. In nominal data, the categories are only named, while in ordinal data, the categories have a predefined order or rank. This distinction allows for different types of analysis and statistical operations. For example, in nominal data, frequency analysis and cross-tabulation are common, while in ordinal data, measures like median or percentiles are used to understand the central tendency and distribution of the data.\n",
        "\n",
        "In summary, nominal data represents unordered categories, whereas ordinal data represents categories with a meaningful order or ranking."
      ],
      "metadata": {
        "id": "yfy8E3KhNATT"
      }
    },
    {
      "cell_type": "markdown",
      "source": [
        "**Q8. Which type of plot can be used to display data in terms of range?**\n",
        "\n",
        "A common type of plot used to display data in terms of range is a box plot or box-and-whisker plot.\n",
        "\n",
        "A box plot provides a visual representation of the distribution of a dataset, specifically focusing on the minimum, first quartile (25th percentile), median (50th percentile), third quartile (75th percentile), and maximum values. The box in the plot represents the interquartile range (IQR), which is the range between the first and third quartiles. The whiskers extend from the box to the minimum and maximum values, typically with some additional rules for determining outliers.\n",
        "\n",
        "By using a box plot, you can quickly identify the range of values in the dataset and gain insights into the spread, skewness, and presence of outliers. It helps you understand the central tendency, variability, and distribution shape of the data. The range is represented by the length of the whiskers or the distance between the minimum and maximum values.\n",
        "\n",
        "Box plots are particularly useful when comparing multiple groups or categories, as they allow for easy visual comparison of the ranges across the groups. They are commonly used in exploratory data analysis, statistical inference, and data visualization.\n",
        "\n",
        "Other types of plots, such as range plots or range bars, can also be used to display data in terms of range. However, box plots are specifically designed to provide a comprehensive view of the range along with other important statistics, making them a widely used choice for this purpose.\n",
        "\n",
        "\n",
        "\n",
        "\n",
        "\n",
        "\n"
      ],
      "metadata": {
        "id": "hJ3YQsnSRqO1"
      }
    },
    {
      "cell_type": "markdown",
      "source": [
        "**Q9. Describe the difference between descriptive and inferential statistics. Give an example of each\n",
        "type of statistics and explain how they are used.**\n",
        "\n",
        "\n",
        "Descriptive statistics and inferential statistics are two branches of statistics that serve different purposes in data analysis.\n",
        "\n",
        "Descriptive Statistics:\n",
        "Descriptive statistics involve summarizing and presenting the main characteristics and features of a dataset. These statistics aim to describe and summarize the data in a meaningful way, providing insights into its central tendency, variability, and distribution. Descriptive statistics are typically used to analyze and interpret the data within a given sample or population.\n",
        "Example: Mean and Standard Deviation\n",
        "Suppose we have a dataset consisting of the heights (in centimeters) of a group of individuals: [165, 170, 172, 175, 180]. Descriptive statistics can be used to calculate the mean (average) height, which in this case would be (165 + 170 + 172 + 175 + 180) / 5 = 172.4 cm. Additionally, the standard deviation can be calculated to measure the variability or spread of the heights around the mean.\n",
        "\n",
        "Descriptive statistics help us understand the basic characteristics of the dataset, such as the typical height and the amount of variation present. They provide a concise summary of the data, making it easier to interpret and communicate the findings.\n",
        "\n",
        "Inferential Statistics:\n",
        "Inferential statistics involve drawing conclusions or making inferences about a larger population based on a sample of data. These statistics are used to analyze the relationships, patterns, and differences observed in the sample and extend those findings to a broader population. Inferential statistics utilize probability theory and sampling techniques to make these generalizations.\n",
        "Example: Hypothesis Testing\n",
        "Suppose we want to investigate whether there is a significant difference in heights between two groups of individuals, Group A and Group B. We collect a sample of heights from both groups and perform a hypothesis test, such as a t-test, to determine if the observed difference in means is statistically significant. Based on the results of the test, we can infer whether the observed difference is likely to be representative of the larger populations of Group A and Group B.\n",
        "\n",
        "Inferential statistics allow us to make inferences about a population based on limited data from a sample. They provide a way to draw broader conclusions and make predictions beyond the observed data. These statistical techniques are crucial for scientific research, decision-making, and generalizing findings to larger populations.\n",
        "\n",
        "In summary, descriptive statistics describe and summarize the characteristics of a dataset, while inferential statistics help draw conclusions and make predictions about a population based on sample data. Descriptive statistics focus on the present data, while inferential statistics involve making broader inferences about the underlying population."
      ],
      "metadata": {
        "id": "vpLn1LDYSDW7"
      }
    },
    {
      "cell_type": "markdown",
      "source": [
        "**10). What are some common measures of central tendency and variability used in statistics? Explain\n",
        "how each measure can be used to describe a dataset.**\n",
        "\n",
        "\n",
        "=\n",
        "In statistics, measures of central tendency and variability are used to summarize and describe the characteristics of a dataset. Here are some common measures of central tendency and variability:\n",
        "\n",
        "Measures of Central Tendency:\n",
        "\n",
        "Mean: The mean is the average of a dataset and is calculated by summing all the values and dividing by the number of observations. The mean provides a measure of the typical or average value in the dataset.\n",
        "\n",
        "Median: The median is the middle value of a dataset when the values are arranged in ascending or descending order. The median represents the value that separates the lower and upper halves of the data. It is less affected by extreme values than the mean and provides a measure of the central value.\n",
        "\n",
        "Mode: The mode is the value(s) that appear most frequently in a dataset. It represents the most common or repetitive value(s). The mode is particularly useful for categorical or discrete data.\n",
        "\n",
        "Measures of Variability:\n",
        "\n",
        "Range: The range is the difference between the maximum and minimum values in a dataset. It provides a simple measure of the spread or dispersion of the data. However, it only considers the extreme values and does not take into account the entire distribution.\n",
        "\n",
        "Variance: Variance measures the average squared deviation of each value from the mean. It provides an indication of the overall variability of the dataset. A higher variance indicates a wider spread of values, while a lower variance indicates a more concentrated dataset.\n",
        "\n",
        "Standard Deviation: The standard deviation is the square root of the variance. It provides a measure of the dispersion around the mean. A larger standard deviation indicates a greater spread of data points, while a smaller standard deviation indicates a more tightly clustered dataset.\n",
        "\n",
        "These measures of central tendency and variability together provide a comprehensive description of the dataset. The measures of central tendency (mean, median, and mode) give insights into the typical or central value, while measures of variability (range, variance, and standard deviation) provide information about the spread or dispersion of the data. By using these measures, statisticians can understand and communicate the key characteristics and patterns within a dataset.\n",
        "\n",
        "\n",
        "\n",
        "\n",
        "\n",
        "\n"
      ],
      "metadata": {
        "id": "Mhk-2h7dSUrS"
      }
    },
    {
      "cell_type": "markdown",
      "source": [],
      "metadata": {
        "id": "bcfipVheSwJ2"
      }
    }
  ]
}