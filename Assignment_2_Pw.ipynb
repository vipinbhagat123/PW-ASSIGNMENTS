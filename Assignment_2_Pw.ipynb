{
  "nbformat": 4,
  "nbformat_minor": 0,
  "metadata": {
    "colab": {
      "provenance": [],
      "authorship_tag": "ABX9TyOqe0r32wxnhJHku3A3BTrm",
      "include_colab_link": true
    },
    "kernelspec": {
      "name": "python3",
      "display_name": "Python 3"
    },
    "language_info": {
      "name": "python"
    }
  },
  "cells": [
    {
      "cell_type": "markdown",
      "metadata": {
        "id": "view-in-github",
        "colab_type": "text"
      },
      "source": [
        "<a href=\"https://colab.research.google.com/github/vipinbhagat123/PW-ASSIGNMENTS/blob/main/Assignment_2_Pw.ipynb\" target=\"_parent\"><img src=\"https://colab.research.google.com/assets/colab-badge.svg\" alt=\"Open In Colab\"/></a>"
      ]
    },
    {
      "cell_type": "markdown",
      "source": [
        "# **ASSIGNMENT 2**"
      ],
      "metadata": {
        "id": "lTNtMDa9mM61"
      }
    },
    {
      "cell_type": "markdown",
      "source": [
        "1). Write a program to accept percentage from the user and display the gradee according to the following criteria?"
      ],
      "metadata": {
        "id": "COSdSJ-rmS7x"
      }
    },
    {
      "cell_type": "markdown",
      "source": [
        "Ans:"
      ],
      "metadata": {
        "id": "CZGXfQBOmzVU"
      }
    },
    {
      "cell_type": "code",
      "source": [
        "marks=int(input())\n",
        "if marks>90:\n",
        "  print(\"A\")\n",
        "elif marks>80 and marks<=90:\n",
        "  print(\"B\")\n",
        "elif marks>=60 and marks<=80:\n",
        "  print(\"C\")\n",
        "else:\n",
        "  print(\"D\")"
      ],
      "metadata": {
        "colab": {
          "base_uri": "https://localhost:8080/"
        },
        "id": "SnEiWarTmwmF",
        "outputId": "6d2e9ed2-c7ad-423f-8249-d2b3c80dfdce"
      },
      "execution_count": null,
      "outputs": [
        {
          "output_type": "stream",
          "name": "stdout",
          "text": [
            "90\n",
            "B\n"
          ]
        }
      ]
    },
    {
      "cell_type": "markdown",
      "source": [
        "2). Write a program to accept the cost price of a bike and display the road tax to be paid according to the following criteria:"
      ],
      "metadata": {
        "id": "4A9fr-BQn0Oa"
      }
    },
    {
      "cell_type": "markdown",
      "source": [
        "Ans:"
      ],
      "metadata": {
        "id": "hZRtKCGln-zh"
      }
    },
    {
      "cell_type": "code",
      "source": [
        "price=int(input())\n",
        "if price >100000:\n",
        "  print(\"15%\")\n",
        "elif price>50000 and price<=100000:\n",
        "  print(\"10%\")\n",
        "else:\n",
        "  print(\"5%\")"
      ],
      "metadata": {
        "colab": {
          "base_uri": "https://localhost:8080/"
        },
        "id": "meQG67XHoAYx",
        "outputId": "8a488dc7-8878-4bbb-ab74-3b207d2c64f6"
      },
      "execution_count": null,
      "outputs": [
        {
          "output_type": "stream",
          "name": "stdout",
          "text": [
            "1000\n",
            "5%\n"
          ]
        }
      ]
    },
    {
      "cell_type": "markdown",
      "source": [
        "3). Accept any city form the user and display monuments of that city."
      ],
      "metadata": {
        "id": "9uqID4tvoltF"
      }
    },
    {
      "cell_type": "markdown",
      "source": [
        "Ans:"
      ],
      "metadata": {
        "id": "qw0pclPgotqf"
      }
    },
    {
      "cell_type": "code",
      "source": [
        "city=str(input())\n",
        "if city==\"Delhi\":\n",
        "  print(\"Red Fort\")\n",
        "elif city==\"Agra\":\n",
        "  print(\"Taj Mahal\")\n",
        "elif city==\"Jaipur\":\n",
        "  print(\"Jal Mahal\")\n",
        "else:\n",
        "  print(\"Enter a valid city\")"
      ],
      "metadata": {
        "colab": {
          "base_uri": "https://localhost:8080/"
        },
        "id": "2wA3tmTeovLL",
        "outputId": "e3a2c1b1-f0b9-4ea5-c1c2-896bcb32da92"
      },
      "execution_count": null,
      "outputs": [
        {
          "output_type": "stream",
          "name": "stdout",
          "text": [
            "Agra\n",
            "Taj Mahal\n"
          ]
        }
      ]
    },
    {
      "cell_type": "markdown",
      "source": [
        "4). Check how many times a given number can be divided by 3 before it is less than or equal to 10?"
      ],
      "metadata": {
        "id": "ye9IU1bvqcdE"
      }
    },
    {
      "cell_type": "code",
      "source": [
        "i=1\n",
        "n=10\n",
        "while(i<=n):\n",
        "  n=n/3\n",
        "  i=i+1\n",
        "print(n)\n"
      ],
      "metadata": {
        "colab": {
          "base_uri": "https://localhost:8080/"
        },
        "id": "56FctYAdvjO1",
        "outputId": "1d89f290-e98b-4fb7-925b-60dc54b45d05"
      },
      "execution_count": null,
      "outputs": [
        {
          "output_type": "stream",
          "name": "stdout",
          "text": [
            "1.1111111111111112\n"
          ]
        }
      ]
    },
    {
      "cell_type": "markdown",
      "source": [
        "5). Why and when to use while loop in python give a detailed description with example"
      ],
      "metadata": {
        "id": "tMF4jM9-QmPy"
      }
    },
    {
      "cell_type": "markdown",
      "source": [
        "Ans:"
      ],
      "metadata": {
        "id": "BxBb_nDWQtRe"
      }
    },
    {
      "cell_type": "markdown",
      "source": [
        "Python while loop is used to run a block code until a certain condition is met. Here, A while loop evaluates the condition. If the condition evaluates to True , the code inside the while loop is executed."
      ],
      "metadata": {
        "id": "NmXjZSjCQ3oR"
      }
    },
    {
      "cell_type": "markdown",
      "source": [
        "Example: "
      ],
      "metadata": {
        "id": "Azj5qLFpQ6Em"
      }
    },
    {
      "cell_type": "code",
      "source": [
        "#printing a table\n",
        "n=int(input())\n",
        "i=1\n",
        "while(i<=10):\n",
        "  result=n*i\n",
        "  print(n, \"*\", i, \"=\", result)\n",
        "  i=i+1"
      ],
      "metadata": {
        "colab": {
          "base_uri": "https://localhost:8080/"
        },
        "id": "5CASDfTWQ7nw",
        "outputId": "ec81fec3-ea10-4057-fada-aa36bf971fa4"
      },
      "execution_count": null,
      "outputs": [
        {
          "output_type": "stream",
          "name": "stdout",
          "text": [
            "5\n",
            "5 * 1 = 5\n",
            "5 * 2 = 10\n",
            "5 * 3 = 15\n",
            "5 * 4 = 20\n",
            "5 * 5 = 25\n",
            "5 * 6 = 30\n",
            "5 * 7 = 35\n",
            "5 * 8 = 40\n",
            "5 * 9 = 45\n",
            "5 * 10 = 50\n"
          ]
        }
      ]
    },
    {
      "cell_type": "code",
      "source": [
        "n=int(input())\n",
        "i=1\n",
        "while i<=n:\n",
        "    j=n\n",
        "    while j>=i:\n",
        "        print(\"*\", end=\" \")\n",
        "        j=j-1\n",
        "    print( )\n",
        "    i=i+1"
      ],
      "metadata": {
        "colab": {
          "base_uri": "https://localhost:8080/"
        },
        "id": "vCYuHOuyNtBq",
        "outputId": "fdced6a1-6372-40a3-e7b9-239837cad70f"
      },
      "execution_count": 9,
      "outputs": [
        {
          "output_type": "stream",
          "name": "stdout",
          "text": [
            "5\n",
            "* * * * * \n",
            "* * * * \n",
            "* * * \n",
            "* * \n",
            "* \n"
          ]
        }
      ]
    },
    {
      "cell_type": "code",
      "source": [
        "n=int(input())\n",
        "i=1\n",
        "while(i<=n):\n",
        "  j=1\n",
        "  while(j<=i):\n",
        "    print(\"*\", end=\" \")\n",
        "    j=j+1\n",
        "  print()\n",
        "  i=i+1"
      ],
      "metadata": {
        "colab": {
          "base_uri": "https://localhost:8080/"
        },
        "id": "I0bmBZWbNx7c",
        "outputId": "af7774ed-0a1c-484b-a40f-a09b50a5fdbf"
      },
      "execution_count": 10,
      "outputs": [
        {
          "output_type": "stream",
          "name": "stdout",
          "text": [
            "5\n",
            "* \n",
            "* * \n",
            "* * * \n",
            "* * * * \n",
            "* * * * * \n"
          ]
        }
      ]
    },
    {
      "cell_type": "code",
      "source": [
        "n = int(input('Enter number of rows : '))\n",
        " \n",
        "k = 1\n",
        "i = 1\n",
        "while i <= n :\n",
        "    j = 1\n",
        "    while j <= i:\n",
        "        print(\"{:3d}\".format(k), end = \" \")\n",
        "        j += 1\n",
        "        k += 1\n",
        "    print()\n",
        "    i += 1"
      ],
      "metadata": {
        "colab": {
          "base_uri": "https://localhost:8080/"
        },
        "id": "RLAaS2iaODlh",
        "outputId": "2fe1f9f6-ed3f-4eb8-f79a-b369c33f15a6"
      },
      "execution_count": 11,
      "outputs": [
        {
          "output_type": "stream",
          "name": "stdout",
          "text": [
            "Enter number of rows : 5\n",
            "  1 \n",
            "  2   3 \n",
            "  4   5   6 \n",
            "  7   8   9  10 \n",
            " 11  12  13  14  15 \n"
          ]
        }
      ]
    },
    {
      "cell_type": "markdown",
      "source": [
        "7). Reverse a while loop to display numbers from 10 to 1"
      ],
      "metadata": {
        "id": "hYcyj9yBVIKz"
      }
    },
    {
      "cell_type": "markdown",
      "source": [
        "Ans:"
      ],
      "metadata": {
        "id": "mqE5B7vcVPCN"
      }
    },
    {
      "cell_type": "code",
      "source": [
        "n=10\n",
        "i=1\n",
        "while(i<=n):\n",
        "    print(n)\n",
        "    n=n-1\n",
        "    "
      ],
      "metadata": {
        "colab": {
          "base_uri": "https://localhost:8080/"
        },
        "id": "JwjZ0x8EVQk0",
        "outputId": "bd452d2c-9828-467e-d0a5-ca21ee5dbdee"
      },
      "execution_count": 13,
      "outputs": [
        {
          "output_type": "stream",
          "name": "stdout",
          "text": [
            "10\n",
            "9\n",
            "8\n",
            "7\n",
            "6\n",
            "5\n",
            "4\n",
            "3\n",
            "2\n",
            "1\n"
          ]
        }
      ]
    },
    {
      "cell_type": "markdown",
      "source": [
        "8). Reverse a while loop to display numbers from 10 to 1"
      ],
      "metadata": {
        "id": "3k239kkqVsIC"
      }
    },
    {
      "cell_type": "code",
      "source": [
        "n=10\n",
        "i=1\n",
        "while(i<=n):\n",
        "  print(n)\n",
        "  n=n-1"
      ],
      "metadata": {
        "colab": {
          "base_uri": "https://localhost:8080/"
        },
        "id": "bE6HBynsV2wm",
        "outputId": "f8263e72-5874-4c17-cb5d-b42f2b397b6b"
      },
      "execution_count": 14,
      "outputs": [
        {
          "output_type": "stream",
          "name": "stdout",
          "text": [
            "10\n",
            "9\n",
            "8\n",
            "7\n",
            "6\n",
            "5\n",
            "4\n",
            "3\n",
            "2\n",
            "1\n"
          ]
        }
      ]
    },
    {
      "cell_type": "code",
      "source": [],
      "metadata": {
        "id": "klq7lBYEV-aE"
      },
      "execution_count": null,
      "outputs": []
    }
  ]
}